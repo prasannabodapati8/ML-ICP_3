{
  "nbformat": 4,
  "nbformat_minor": 0,
  "metadata": {
    "colab": {
      "provenance": []
    },
    "kernelspec": {
      "name": "python3",
      "display_name": "Python 3"
    },
    "language_info": {
      "name": "python"
    }
  },
  "cells": [
    {
      "cell_type": "code",
      "execution_count": 9,
      "metadata": {
        "colab": {
          "base_uri": "https://localhost:8080/"
        },
        "id": "eL4QF2C9wn6b",
        "outputId": "16e64580-8105-405f-a0ef-d801d75e2a1e"
      },
      "outputs": [
        {
          "output_type": "stream",
          "name": "stdout",
          "text": [
            "Shape of 2D array: (4, 3)\n",
            "Type of the array: <class 'numpy.ndarray'>\n",
            "Data type of the array: int32\n"
          ]
        }
      ],
      "source": [
        "import numpy as np\n",
        "\n",
        "# Generate random vector of size 15 with integers in range 1-20\n",
        "random_vector = np.random.randint(1, 21, size=15)\n",
        "\n",
        "# Reshape the vector to 3 by 5 array\n",
        "reshaped_array = random_vector.reshape(3, 5)\n",
        "\n",
        "# Replace max in each row by 0\n",
        "reshaped_array[np.arange(3), np.argmax(reshaped_array, axis=1)] = 0\n",
        "\n",
        "# Create a 2-dimensional array of size 4 x 3 with 4-byte integer elements\n",
        "array_4x3 = np.zeros((4, 3), dtype=np.int32)\n",
        "\n",
        "# Print shape, type, and data type of the array\n",
        "print(\"Shape of 2D array:\", array_4x3.shape)\n",
        "print(\"Type of the array:\", type(array_4x3))\n",
        "print(\"Data type of the array:\", array_4x3.dtype)\n"
      ]
    },
    {
      "cell_type": "code",
      "source": [
        "import numpy as np\n",
        "\n",
        "# Define the square array\n",
        "A = np.array([[3, -2],\n",
        "              [1, 0]])\n",
        "\n",
        "# Compute the eigenvalues and right eigenvectors\n",
        "eigenvalues, right_eigenvectors = np.linalg.eig(A)\n",
        "\n",
        "# Print the eigenvalues and right eigenvectors\n",
        "print(\"Eigenvalues:\")\n",
        "print(eigenvalues)\n",
        "print(\"\\nRight eigenvectors:\")\n",
        "print(right_eigenvectors)\n"
      ],
      "metadata": {
        "colab": {
          "base_uri": "https://localhost:8080/"
        },
        "id": "FJ-8Vj21OuT4",
        "outputId": "61512f58-5c17-447a-91e0-c0e30cdc1773"
      },
      "execution_count": 10,
      "outputs": [
        {
          "output_type": "stream",
          "name": "stdout",
          "text": [
            "Eigenvalues:\n",
            "[2. 1.]\n",
            "\n",
            "Right eigenvectors:\n",
            "[[0.89442719 0.70710678]\n",
            " [0.4472136  0.70710678]]\n"
          ]
        }
      ]
    },
    {
      "cell_type": "code",
      "source": [
        "array = [[0, 1, 2],\n",
        "         [3, 4, 5]]\n",
        "\n",
        "diag_sum = sum(array[i][i] for i in range(min(len(array), len(array[0]))))\n",
        "\n",
        "print(\"Sum of diagonal elements:\", diag_sum)\n"
      ],
      "metadata": {
        "colab": {
          "base_uri": "https://localhost:8080/"
        },
        "id": "s9xqbc_5P38P",
        "outputId": "8d4a9c95-87db-4d95-eff7-d4087891d111"
      },
      "execution_count": 11,
      "outputs": [
        {
          "output_type": "stream",
          "name": "stdout",
          "text": [
            "Sum of diagonal elements: 4\n"
          ]
        }
      ]
    },
    {
      "cell_type": "code",
      "source": [
        "import numpy as np\n",
        "\n",
        "# Original array\n",
        "array1 = np.array([[1, 2],\n",
        "                   [3, 4],\n",
        "                   [5, 6]])\n",
        "\n",
        "array2 = np.array([[1, 23],\n",
        "                   [4, 5],\n",
        "                   [6, 7]])\n",
        "\n",
        "# Reshape without changing data\n",
        "reshaped_array1 = np.reshape(array1, (2, 3))\n",
        "reshaped_array2 = np.reshape(array2, (3, 2))\n",
        "\n",
        "# Print reshaped arrays\n",
        "print(\"Reshaped 3x2 array:\")\n",
        "print(reshaped_array1)\n",
        "print(\"\\nReshaped 2x3 array:\")\n",
        "print(reshaped_array2)\n"
      ],
      "metadata": {
        "colab": {
          "base_uri": "https://localhost:8080/"
        },
        "id": "PkN3pN7JQi2x",
        "outputId": "24555085-92dc-45be-aa06-81a4092c01ab"
      },
      "execution_count": 15,
      "outputs": [
        {
          "output_type": "stream",
          "name": "stdout",
          "text": [
            "Reshaped 3x2 array:\n",
            "[[1 2 3]\n",
            " [4 5 6]]\n",
            "\n",
            "Reshaped 2x3 array:\n",
            "[[ 1 23]\n",
            " [ 4  5]\n",
            " [ 6  7]]\n"
          ]
        }
      ]
    }
  ]
}